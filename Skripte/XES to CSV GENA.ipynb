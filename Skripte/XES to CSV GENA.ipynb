{
 "cells": [
  {
   "cell_type": "code",
   "execution_count": null,
   "id": "5d3db996",
   "metadata": {},
   "outputs": [],
   "source": [
    "import pandas as pd\n",
    "import numpy as np \n",
    "import pm4py\n",
    "from pm4py.objects.log.importer.xes import importer as xes_importer\n",
    "from pm4py.objects.conversion.log import converter as log_converter\n",
    "from pm4py.objects.log.util import dataframe_utils\n",
    "\n",
    "name = \"benchmark\"\n",
    "# import xes \n",
    "log = xes_importer.apply(name + '.xes')\n",
    "events = pm4py.get_event_attribute_values(log, 'concept:name')\n",
    "\n",
    "log_csv = pd.read_csv('<path_to_csv_file.csv>', sep=',')\n",
    "# convert xes to csv\n",
    "dataframe = log_converter.apply(log, variant=log_converter.Variants.TO_DATA_FRAME)"
   ]
  },
  {
   "cell_type": "code",
   "execution_count": null,
   "id": "a64b552f",
   "metadata": {},
   "outputs": [],
   "source": [
    "# create new column\n",
    "dataframe['pName'] = dataframe['case:concept:name']\n",
    "\n",
    "# create dictionary Trace <=> Name\n",
    "name_di = [\"Peter\", \"Hans\", \"Julian\"]\n",
    "di = {}\n",
    "pi = {}  \n",
    "cn = {}\n",
    "\n",
    "for x in events:\n",
    "    if \"/ \" in x:\n",
    "        t1, t2 = x.split(\"/ \")\n",
    "        cn[x] = t1 + \"/\\n\" + t2\n",
    "\n",
    "cn [\"await answer for interview\"]= \"await answer\\nfor interview\"\n",
    "\n",
    "        \n",
    "for i in range(1, len(log)+1):\n",
    "    x = np.random.randint(99)\n",
    "    if x <= 25:\n",
    "        di[\"Trace \"+ str(i)] = name_di[0]\n",
    "    elif x <= 50:\n",
    "        di[\"Trace \"+ str(i)] = name_di[1]\n",
    "    elif x <= 75:\n",
    "        di[\"Trace \"+ str(i)] = name_di[2]\n",
    "\n",
    "\n"
   ]
  },
  {
   "cell_type": "code",
   "execution_count": null,
   "id": "8f96770b",
   "metadata": {},
   "outputs": [],
   "source": [
    "# replace \n",
    "dataframe[\"case:concept:name\"] = dataframe[\"case:concept:name\"].replace(pi)\n",
    "dataframe[\"concept:name\"] = dataframe[\"concept:name\"].replace(cn)\n",
    "dataframe['pName'] = dataframe['pName'].replace(di)\n",
    "dataframe.head(5)"
   ]
  },
  {
   "cell_type": "code",
   "execution_count": null,
   "id": "1897faa5",
   "metadata": {},
   "outputs": [],
   "source": [
    "dataframe= dataframe.drop(columns=['org:group', 'lifecycle:transition'])\n",
    "dataframe.head(5)"
   ]
  },
  {
   "cell_type": "code",
   "execution_count": null,
   "id": "f79f728b",
   "metadata": {},
   "outputs": [],
   "source": [
    "# save\n",
    "dataframe.to_csv(name + '.csv',sep = ';')"
   ]
  },
  {
   "cell_type": "code",
   "execution_count": null,
   "id": "ec3191ae",
   "metadata": {
    "scrolled": true
   },
   "outputs": [],
   "source": [
    "# testing purposes\n",
    "dataframe.head(5)"
   ]
  },
  {
   "cell_type": "code",
   "execution_count": null,
   "id": "d36e1f50",
   "metadata": {
    "scrolled": true
   },
   "outputs": [],
   "source": [
    "# rename head names\n",
    "dataframe[\"concept:name\"].unique ()\n",
    "#dataframe.rename(columns={\"concept:name\": \"Name\", \"org:group\": \"Group\"}).head(2)\n"
   ]
  },
  {
   "cell_type": "code",
   "execution_count": null,
   "id": "99a56a62",
   "metadata": {},
   "outputs": [],
   "source": []
  }
 ],
 "metadata": {
  "kernelspec": {
   "display_name": "Python 3 (ipykernel)",
   "language": "python",
   "name": "python3"
  },
  "language_info": {
   "codemirror_mode": {
    "name": "ipython",
    "version": 3
   },
   "file_extension": ".py",
   "mimetype": "text/x-python",
   "name": "python",
   "nbconvert_exporter": "python",
   "pygments_lexer": "ipython3",
   "version": "3.9.7"
  }
 },
 "nbformat": 4,
 "nbformat_minor": 5
}
